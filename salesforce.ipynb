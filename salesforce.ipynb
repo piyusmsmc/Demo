{
 "cells": [
  {
   "cell_type": "code",
   "execution_count": 1,
   "metadata": {},
   "outputs": [],
   "source": [
    "import pandas as pd\n",
    "import numpy as np"
   ]
  },
  {
   "cell_type": "code",
   "execution_count": 2,
   "metadata": {},
   "outputs": [],
   "source": [
    "df = pd.read_excel('C:\\\\Users\\\\Piyush\\\\Documents\\\\Switch ki taiyaari\\\\kitedata analysis\\\\salesforce.xlsx')"
   ]
  },
  {
   "cell_type": "code",
   "execution_count": 3,
   "metadata": {},
   "outputs": [
    {
     "name": "stdout",
     "output_type": "stream",
     "text": [
      "       Feature  year  Product      SI priority Sentiments\n",
      "0    H.Browser   2024      HD  Sonify       P1          C\n",
      "1    H.Browser   2024      HD  Sonify       P1          A\n",
      "2    H.Browser   2024      HD  Sonify       P1          A\n",
      "3    H.Browser   2024      HD  Sonify       P2          C\n",
      "4    H.Browser   2024      HD  Sonify       P2          B\n",
      "..         ...    ...     ...     ...      ...        ...\n",
      "172        TEP   2021      HD   HIBOX       P2          B\n",
      "173        TEP   2021      HD   HIBOX       P4          B\n",
      "174        TEP   2024      HD   HIBOX       P1          A\n",
      "175        TEP   2024      HD   HIBOX       P1          C\n",
      "176        TEP   2024      HD   HIBOX       P1          A\n",
      "\n",
      "[177 rows x 6 columns]\n"
     ]
    }
   ],
   "source": [
    "import numpy as np\n",
    "\n",
    "# Adding a new column 'Sentiments' with random choices from 'A', 'B', 'C'\n",
    "df['Sentiments'] = np.random.choice(['A', 'B', 'C'], size=len(df))\n",
    "\n",
    "print(df)\n"
   ]
  },
  {
   "cell_type": "code",
   "execution_count": 4,
   "metadata": {},
   "outputs": [
    {
     "name": "stdout",
     "output_type": "stream",
     "text": [
      "[{'Sentiment': 'A', 'Count': 54}, {'Sentiment': 'B', 'Count': 54}, {'Sentiment': 'C', 'Count': 69}]\n"
     ]
    }
   ],
   "source": [
    "# Counting the occurrences of 'A', 'B', and 'C' in the 'Sentiments' column\n",
    "sentiment_counts = df['Sentiments'].value_counts()\n",
    "\n",
    "# Storing the counts in an array of dictionaries\n",
    "sentiment_array = [\n",
    "    {'Sentiment': 'A', 'Count': sentiment_counts.get('A', 0)},\n",
    "    {'Sentiment': 'B', 'Count': sentiment_counts.get('B', 0)},\n",
    "    {'Sentiment': 'C', 'Count': sentiment_counts.get('C', 0)},\n",
    "]\n",
    "\n",
    "print(sentiment_array)\n"
   ]
  },
  {
   "cell_type": "code",
   "execution_count": 5,
   "metadata": {},
   "outputs": [
    {
     "name": "stdout",
     "output_type": "stream",
     "text": [
      "[{'Feature': 'H.Browser', 'year ': 2024, 'Product': 'HD', 'SI': 'Sonify', 'priority': 'P1', 'Sentiments': 'C'}, {'Feature': 'H.Browser', 'year ': 2024, 'Product': 'HD', 'SI': 'Sonify', 'priority': 'P1', 'Sentiments': 'A'}, {'Feature': 'H.Browser', 'year ': 2024, 'Product': 'HD', 'SI': 'Sonify', 'priority': 'P1', 'Sentiments': 'A'}, {'Feature': 'H.Browser', 'year ': 2024, 'Product': 'HD', 'SI': 'Sonify', 'priority': 'P2', 'Sentiments': 'C'}, {'Feature': 'H.Browser', 'year ': 2024, 'Product': 'HD', 'SI': 'Sonify', 'priority': 'P2', 'Sentiments': 'B'}, {'Feature': 'H.Browser', 'year ': 2024, 'Product': 'HD', 'SI': 'Sonify', 'priority': 'P3', 'Sentiments': 'C'}, {'Feature': 'H.Browser', 'year ': 2024, 'Product': 'HD', 'SI': 'Sonify', 'priority': 'P2', 'Sentiments': 'C'}, {'Feature': 'H.Browser', 'year ': 2024, 'Product': 'HD', 'SI': 'Sonify', 'priority': 'P4', 'Sentiments': 'C'}, {'Feature': 'H.Browser', 'year ': 2023, 'Product': 'HD', 'SI': 'Sonify', 'priority': 'P1', 'Sentiments': 'A'}, {'Feature': 'H.Browser', 'year ': 2023, 'Product': 'HD', 'SI': 'Sonify', 'priority': 'P1', 'Sentiments': 'C'}, {'Feature': 'H.Browser', 'year ': 2023, 'Product': 'HD', 'SI': 'Sonify', 'priority': 'P1', 'Sentiments': 'A'}, {'Feature': 'H.Browser', 'year ': 2023, 'Product': 'HD', 'SI': 'Sonify', 'priority': 'P2', 'Sentiments': 'B'}, {'Feature': 'H.Browser', 'year ': 2023, 'Product': 'HD', 'SI': 'Sonify', 'priority': 'P2', 'Sentiments': 'C'}, {'Feature': 'H.Browser', 'year ': 2023, 'Product': 'HD', 'SI': 'Sonify', 'priority': 'P3', 'Sentiments': 'C'}, {'Feature': 'H.Browser', 'year ': 2022, 'Product': 'HD', 'SI': 'Sonify', 'priority': 'P2', 'Sentiments': 'C'}, {'Feature': 'H.Browser', 'year ': 2022, 'Product': 'HD', 'SI': 'Sonify', 'priority': 'P4', 'Sentiments': 'B'}, {'Feature': 'H.Browser', 'year ': 2022, 'Product': 'HD', 'SI': 'Sonify', 'priority': 'P1', 'Sentiments': 'B'}, {'Feature': 'H.Browser', 'year ': 2022, 'Product': 'HD', 'SI': 'Sonify', 'priority': 'P1', 'Sentiments': 'C'}, {'Feature': 'H.Browser', 'year ': 2022, 'Product': 'HD', 'SI': 'Sonify', 'priority': 'P1', 'Sentiments': 'B'}, {'Feature': 'H.Browser', 'year ': 2022, 'Product': 'HD', 'SI': 'Sonify', 'priority': 'P2', 'Sentiments': 'A'}, {'Feature': 'H.Browser', 'year ': 2022, 'Product': 'HD', 'SI': 'Sonify', 'priority': 'P2', 'Sentiments': 'C'}, {'Feature': 'H.Browser', 'year ': 2021, 'Product': 'HD', 'SI': 'Sonify', 'priority': 'P3', 'Sentiments': 'C'}, {'Feature': 'H.Browser', 'year ': 2021, 'Product': 'HD', 'SI': 'Sonify', 'priority': 'P2', 'Sentiments': 'A'}, {'Feature': 'H.Browser', 'year ': 2021, 'Product': 'HD', 'SI': 'Sonify', 'priority': 'P4', 'Sentiments': 'C'}, {'Feature': 'TEP', 'year ': 2024, 'Product': 'HD', 'SI': 'GTK', 'priority': 'P1', 'Sentiments': 'A'}, {'Feature': 'TEP', 'year ': 2024, 'Product': 'HD', 'SI': 'GTK', 'priority': 'P1', 'Sentiments': 'A'}, {'Feature': 'TEP', 'year ': 2024, 'Product': 'HD', 'SI': 'GTK', 'priority': 'P1', 'Sentiments': 'A'}, {'Feature': 'TEP', 'year ': 2024, 'Product': 'HD', 'SI': 'GTK', 'priority': 'P2', 'Sentiments': 'C'}, {'Feature': 'TEP', 'year ': 2024, 'Product': 'HD', 'SI': 'GTK', 'priority': 'P2', 'Sentiments': 'B'}, {'Feature': 'TEP', 'year ': 2024, 'Product': 'HD', 'SI': 'GTK', 'priority': 'P3', 'Sentiments': 'A'}, {'Feature': 'TEP', 'year ': 2024, 'Product': 'HD', 'SI': 'GTK', 'priority': 'P2', 'Sentiments': 'B'}, {'Feature': 'TEP', 'year ': 2024, 'Product': 'HD', 'SI': 'GTK', 'priority': 'P4', 'Sentiments': 'B'}, {'Feature': 'TEP', 'year ': 2023, 'Product': 'HD', 'SI': 'GTK', 'priority': 'P1', 'Sentiments': 'C'}, {'Feature': 'TEP', 'year ': 2023, 'Product': 'HD', 'SI': 'GTK', 'priority': 'P1', 'Sentiments': 'B'}, {'Feature': 'TEP', 'year ': 2023, 'Product': 'HD', 'SI': 'GTK', 'priority': 'P1', 'Sentiments': 'B'}, {'Feature': 'TEP', 'year ': 2023, 'Product': 'HD', 'SI': 'GTK', 'priority': 'P2', 'Sentiments': 'C'}, {'Feature': 'TEP', 'year ': 2023, 'Product': 'HD', 'SI': 'GTK', 'priority': 'P2', 'Sentiments': 'A'}, {'Feature': 'TEP', 'year ': 2023, 'Product': 'HD', 'SI': 'GTK', 'priority': 'P3', 'Sentiments': 'B'}, {'Feature': 'TEP', 'year ': 2022, 'Product': 'HD', 'SI': 'GTK', 'priority': 'P2', 'Sentiments': 'A'}, {'Feature': 'TEP', 'year ': 2022, 'Product': 'HD', 'SI': 'GTK', 'priority': 'P4', 'Sentiments': 'C'}, {'Feature': 'TEP', 'year ': 2022, 'Product': 'HD', 'SI': 'GTK', 'priority': 'P1', 'Sentiments': 'A'}, {'Feature': 'TEP', 'year ': 2022, 'Product': 'HD', 'SI': 'GTK', 'priority': 'P1', 'Sentiments': 'B'}, {'Feature': 'TEP', 'year ': 2022, 'Product': 'HD', 'SI': 'GTK', 'priority': 'P1', 'Sentiments': 'B'}, {'Feature': 'TEP', 'year ': 2022, 'Product': 'HD', 'SI': 'GTK', 'priority': 'P2', 'Sentiments': 'A'}, {'Feature': 'TEP', 'year ': 2022, 'Product': 'HD', 'SI': 'GTK', 'priority': 'P2', 'Sentiments': 'B'}, {'Feature': 'TEP', 'year ': 2021, 'Product': 'HD', 'SI': 'GTK', 'priority': 'P3', 'Sentiments': 'A'}, {'Feature': 'TEP', 'year ': 2021, 'Product': 'HD', 'SI': 'GTK', 'priority': 'P2', 'Sentiments': 'C'}, {'Feature': 'TEP', 'year ': 2021, 'Product': 'HD', 'SI': 'GTK', 'priority': 'P4', 'Sentiments': 'C'}, {'Feature': 'TEP', 'year ': 2024, 'Product': 'HD', 'SI': 'GTK', 'priority': 'P1', 'Sentiments': 'B'}, {'Feature': 'CMS', 'year ': 2024, 'Product': 'HD', 'SI': 'DSCC', 'priority': 'P1', 'Sentiments': 'C'}, {'Feature': 'CMS', 'year ': 2024, 'Product': 'HD', 'SI': 'DSCC', 'priority': 'P1', 'Sentiments': 'C'}, {'Feature': 'CMS', 'year ': 2024, 'Product': 'HD', 'SI': 'DSCC', 'priority': 'P1', 'Sentiments': 'B'}, {'Feature': 'CMS', 'year ': 2024, 'Product': 'HD', 'SI': 'DSCC', 'priority': 'P2', 'Sentiments': 'A'}, {'Feature': 'CMS', 'year ': 2024, 'Product': 'HD', 'SI': 'DSCC', 'priority': 'P2', 'Sentiments': 'C'}, {'Feature': 'CMS', 'year ': 2024, 'Product': 'HD', 'SI': 'DSCC', 'priority': 'P3', 'Sentiments': 'A'}, {'Feature': 'CMS', 'year ': 2024, 'Product': 'HD', 'SI': 'DSCC', 'priority': 'P2', 'Sentiments': 'B'}, {'Feature': 'CMS', 'year ': 2024, 'Product': 'HD', 'SI': 'DSCC', 'priority': 'P4', 'Sentiments': 'C'}, {'Feature': 'CMS', 'year ': 2023, 'Product': 'HD', 'SI': 'DSCC', 'priority': 'P1', 'Sentiments': 'A'}, {'Feature': 'CMS', 'year ': 2023, 'Product': 'HD', 'SI': 'DSCC', 'priority': 'P1', 'Sentiments': 'A'}, {'Feature': 'CMS', 'year ': 2023, 'Product': 'HD', 'SI': 'DSCC', 'priority': 'P1', 'Sentiments': 'C'}, {'Feature': 'CMS', 'year ': 2023, 'Product': 'HD', 'SI': 'DSCC', 'priority': 'P2', 'Sentiments': 'A'}, {'Feature': 'CMS', 'year ': 2023, 'Product': 'HD', 'SI': 'DSCC', 'priority': 'P2', 'Sentiments': 'B'}, {'Feature': 'CMS', 'year ': 2023, 'Product': 'HD', 'SI': 'DSCC', 'priority': 'P3', 'Sentiments': 'B'}, {'Feature': 'CMS', 'year ': 2022, 'Product': 'HD', 'SI': 'DSCC', 'priority': 'P2', 'Sentiments': 'B'}, {'Feature': 'CMS', 'year ': 2022, 'Product': 'HD', 'SI': 'DSCC', 'priority': 'P4', 'Sentiments': 'C'}, {'Feature': 'CMS', 'year ': 2022, 'Product': 'HD', 'SI': 'DSCC', 'priority': 'P1', 'Sentiments': 'B'}, {'Feature': 'CMS', 'year ': 2022, 'Product': 'HD', 'SI': 'DSCC', 'priority': 'P1', 'Sentiments': 'B'}, {'Feature': 'CMS', 'year ': 2022, 'Product': 'HD', 'SI': 'DSCC', 'priority': 'P1', 'Sentiments': 'C'}, {'Feature': 'CMS', 'year ': 2022, 'Product': 'HD', 'SI': 'DSCC', 'priority': 'P2', 'Sentiments': 'C'}, {'Feature': 'CMS', 'year ': 2022, 'Product': 'HD', 'SI': 'DSCC', 'priority': 'P2', 'Sentiments': 'B'}, {'Feature': 'CMS', 'year ': 2021, 'Product': 'HD', 'SI': 'DSCC', 'priority': 'P3', 'Sentiments': 'C'}, {'Feature': 'CMS', 'year ': 2021, 'Product': 'HD', 'SI': 'DSCC', 'priority': 'P2', 'Sentiments': 'C'}, {'Feature': 'CMS', 'year ': 2021, 'Product': 'HD', 'SI': 'DSCC', 'priority': 'P4', 'Sentiments': 'C'}, {'Feature': 'CMS', 'year ': 2024, 'Product': 'HD', 'SI': 'DSCC', 'priority': 'P1', 'Sentiments': 'A'}, {'Feature': 'REACH', 'year ': 2024, 'Product': 'HD', 'SI': 'HIBOX', 'priority': 'P1', 'Sentiments': 'B'}, {'Feature': 'REACH', 'year ': 2024, 'Product': 'HD', 'SI': 'HIBOX', 'priority': 'P1', 'Sentiments': 'C'}, {'Feature': 'REACH', 'year ': 2024, 'Product': 'HD', 'SI': 'HIBOX', 'priority': 'P1', 'Sentiments': 'C'}, {'Feature': 'REACH', 'year ': 2024, 'Product': 'HD', 'SI': 'HIBOX', 'priority': 'P2', 'Sentiments': 'C'}, {'Feature': 'REACH', 'year ': 2024, 'Product': 'HD', 'SI': 'HIBOX', 'priority': 'P2', 'Sentiments': 'A'}, {'Feature': 'REACH', 'year ': 2024, 'Product': 'HD', 'SI': 'HIBOX', 'priority': 'P3', 'Sentiments': 'A'}, {'Feature': 'REACH', 'year ': 2024, 'Product': 'HD', 'SI': 'HIBOX', 'priority': 'P2', 'Sentiments': 'B'}, {'Feature': 'REACH', 'year ': 2024, 'Product': 'HD', 'SI': 'HIBOX', 'priority': 'P4', 'Sentiments': 'B'}, {'Feature': 'REACH', 'year ': 2023, 'Product': 'HD', 'SI': 'HIBOX', 'priority': 'P1', 'Sentiments': 'B'}, {'Feature': 'REACH', 'year ': 2023, 'Product': 'HD', 'SI': 'HIBOX', 'priority': 'P1', 'Sentiments': 'B'}, {'Feature': 'REACH', 'year ': 2023, 'Product': 'HD', 'SI': 'HIBOX', 'priority': 'P1', 'Sentiments': 'C'}, {'Feature': 'REACH', 'year ': 2023, 'Product': 'HD', 'SI': 'HIBOX', 'priority': 'P2', 'Sentiments': 'C'}, {'Feature': 'REACH', 'year ': 2023, 'Product': 'HD', 'SI': 'HIBOX', 'priority': 'P2', 'Sentiments': 'A'}, {'Feature': 'REACH', 'year ': 2023, 'Product': 'HD', 'SI': 'HIBOX', 'priority': 'P3', 'Sentiments': 'C'}, {'Feature': 'REACH', 'year ': 2022, 'Product': 'HD', 'SI': 'HIBOX', 'priority': 'P2', 'Sentiments': 'C'}, {'Feature': 'REACH', 'year ': 2022, 'Product': 'HD', 'SI': 'HIBOX', 'priority': 'P4', 'Sentiments': 'B'}, {'Feature': 'REACH', 'year ': 2022, 'Product': 'HD', 'SI': 'HIBOX', 'priority': 'P1', 'Sentiments': 'A'}, {'Feature': 'REACH', 'year ': 2022, 'Product': 'HD', 'SI': 'HIBOX', 'priority': 'P1', 'Sentiments': 'C'}, {'Feature': 'REACH', 'year ': 2022, 'Product': 'HD', 'SI': 'HIBOX', 'priority': 'P1', 'Sentiments': 'B'}, {'Feature': 'REACH', 'year ': 2022, 'Product': 'HD', 'SI': 'HIBOX', 'priority': 'P2', 'Sentiments': 'C'}, {'Feature': 'REACH', 'year ': 2022, 'Product': 'HD', 'SI': 'HIBOX', 'priority': 'P2', 'Sentiments': 'A'}, {'Feature': 'REACH', 'year ': 2021, 'Product': 'HD', 'SI': 'HIBOX', 'priority': 'P3', 'Sentiments': 'B'}, {'Feature': 'REACH', 'year ': 2021, 'Product': 'HD', 'SI': 'HIBOX', 'priority': 'P2', 'Sentiments': 'A'}, {'Feature': 'REACH', 'year ': 2021, 'Product': 'HD', 'SI': 'HIBOX', 'priority': 'P4', 'Sentiments': 'C'}, {'Feature': 'REACH', 'year ': 2024, 'Product': 'HD', 'SI': 'HIBOX', 'priority': 'P1', 'Sentiments': 'A'}, {'Feature': 'REACH', 'year ': 2024, 'Product': 'HD', 'SI': 'HIBOX', 'priority': 'P1', 'Sentiments': 'C'}, {'Feature': 'REACH', 'year ': 2024, 'Product': 'HD', 'SI': 'HIBOX', 'priority': 'P1', 'Sentiments': 'A'}, {'Feature': 'REACH', 'year ': 2024, 'Product': 'HD', 'SI': 'Sonify', 'priority': 'P1', 'Sentiments': 'B'}, {'Feature': 'REACH', 'year ': 2024, 'Product': 'HD', 'SI': 'Sonify', 'priority': 'P1', 'Sentiments': 'C'}, {'Feature': 'REACH', 'year ': 2024, 'Product': 'HD', 'SI': 'Sonify', 'priority': 'P1', 'Sentiments': 'C'}, {'Feature': 'REACH', 'year ': 2024, 'Product': 'HD', 'SI': 'Sonify', 'priority': 'P2', 'Sentiments': 'B'}, {'Feature': 'REACH', 'year ': 2024, 'Product': 'HD', 'SI': 'Sonify', 'priority': 'P2', 'Sentiments': 'B'}, {'Feature': 'REACH', 'year ': 2024, 'Product': 'HD', 'SI': 'Sonify', 'priority': 'P3', 'Sentiments': 'A'}, {'Feature': 'REACH', 'year ': 2024, 'Product': 'HD', 'SI': 'Sonify', 'priority': 'P2', 'Sentiments': 'B'}, {'Feature': 'REACH', 'year ': 2024, 'Product': 'HD', 'SI': 'Sonify', 'priority': 'P4', 'Sentiments': 'C'}, {'Feature': 'TEP', 'year ': 2023, 'Product': 'HD', 'SI': 'Sonify', 'priority': 'P1', 'Sentiments': 'B'}, {'Feature': 'TEP', 'year ': 2023, 'Product': 'HD', 'SI': 'Sonify', 'priority': 'P1', 'Sentiments': 'A'}, {'Feature': 'TEP', 'year ': 2023, 'Product': 'HD', 'SI': 'Sonify', 'priority': 'P1', 'Sentiments': 'C'}, {'Feature': 'TEP', 'year ': 2023, 'Product': 'HD', 'SI': 'Sonify', 'priority': 'P2', 'Sentiments': 'C'}, {'Feature': 'TEP', 'year ': 2023, 'Product': 'HD', 'SI': 'Sonify', 'priority': 'P2', 'Sentiments': 'A'}, {'Feature': 'TEP', 'year ': 2023, 'Product': 'HD', 'SI': 'Sonify', 'priority': 'P3', 'Sentiments': 'B'}, {'Feature': 'TEP', 'year ': 2022, 'Product': 'HD', 'SI': 'Sonify', 'priority': 'P2', 'Sentiments': 'B'}, {'Feature': 'CMS', 'year ': 2022, 'Product': 'HD', 'SI': 'Sonify', 'priority': 'P4', 'Sentiments': 'C'}, {'Feature': 'CMS', 'year ': 2022, 'Product': 'HD', 'SI': 'Sonify', 'priority': 'P1', 'Sentiments': 'C'}, {'Feature': 'CMS', 'year ': 2022, 'Product': 'HD', 'SI': 'Sonify', 'priority': 'P1', 'Sentiments': 'B'}, {'Feature': 'CMS', 'year ': 2022, 'Product': 'HD', 'SI': 'Sonify', 'priority': 'P1', 'Sentiments': 'C'}, {'Feature': 'CMS', 'year ': 2022, 'Product': 'HD', 'SI': 'Sonify', 'priority': 'P2', 'Sentiments': 'C'}, {'Feature': 'CMS', 'year ': 2022, 'Product': 'HD', 'SI': 'Sonify', 'priority': 'P2', 'Sentiments': 'A'}, {'Feature': 'CMS', 'year ': 2021, 'Product': 'HD', 'SI': 'Sonify', 'priority': 'P3', 'Sentiments': 'A'}, {'Feature': 'CMS', 'year ': 2021, 'Product': 'HD', 'SI': 'Sonify', 'priority': 'P2', 'Sentiments': 'A'}, {'Feature': 'CMS', 'year ': 2021, 'Product': 'HD', 'SI': 'Sonify', 'priority': 'P4', 'Sentiments': 'C'}, {'Feature': 'H.Browser', 'year ': 2024, 'Product': 'HD', 'SI': 'DSCC', 'priority': 'P1', 'Sentiments': 'A'}, {'Feature': 'H.Browser', 'year ': 2024, 'Product': 'HD', 'SI': 'DSCC', 'priority': 'P1', 'Sentiments': 'C'}, {'Feature': 'H.Browser', 'year ': 2024, 'Product': 'HD', 'SI': 'DSCC', 'priority': 'P1', 'Sentiments': 'A'}, {'Feature': 'H.Browser', 'year ': 2024, 'Product': 'HD', 'SI': 'DSCC', 'priority': 'P2', 'Sentiments': 'C'}, {'Feature': 'H.Browser', 'year ': 2024, 'Product': 'HD', 'SI': 'DSCC', 'priority': 'P2', 'Sentiments': 'B'}, {'Feature': 'H.Browser', 'year ': 2024, 'Product': 'HD', 'SI': 'DSCC', 'priority': 'P3', 'Sentiments': 'A'}, {'Feature': 'H.Browser', 'year ': 2024, 'Product': 'HD', 'SI': 'DSCC', 'priority': 'P2', 'Sentiments': 'C'}, {'Feature': 'H.Browser', 'year ': 2024, 'Product': 'HD', 'SI': 'DSCC', 'priority': 'P4', 'Sentiments': 'C'}, {'Feature': 'H.Browser', 'year ': 2023, 'Product': 'HD', 'SI': 'DSCC', 'priority': 'P1', 'Sentiments': 'A'}, {'Feature': 'H.Browser', 'year ': 2023, 'Product': 'HD', 'SI': 'DSCC', 'priority': 'P1', 'Sentiments': 'C'}, {'Feature': 'H.Browser', 'year ': 2023, 'Product': 'HD', 'SI': 'DSCC', 'priority': 'P1', 'Sentiments': 'B'}, {'Feature': 'H.Browser', 'year ': 2023, 'Product': 'HD', 'SI': 'DSCC', 'priority': 'P2', 'Sentiments': 'A'}, {'Feature': 'TEP', 'year ': 2023, 'Product': 'HD', 'SI': 'DSCC', 'priority': 'P2', 'Sentiments': 'A'}, {'Feature': 'TEP', 'year ': 2023, 'Product': 'HD', 'SI': 'DSCC', 'priority': 'P3', 'Sentiments': 'B'}, {'Feature': 'TEP', 'year ': 2022, 'Product': 'HD', 'SI': 'DSCC', 'priority': 'P2', 'Sentiments': 'B'}, {'Feature': 'TEP', 'year ': 2022, 'Product': 'HD', 'SI': 'DSCC', 'priority': 'P4', 'Sentiments': 'A'}, {'Feature': 'TEP', 'year ': 2022, 'Product': 'HD', 'SI': 'DSCC', 'priority': 'P1', 'Sentiments': 'B'}, {'Feature': 'TEP', 'year ': 2022, 'Product': 'HD', 'SI': 'DSCC', 'priority': 'P1', 'Sentiments': 'C'}, {'Feature': 'TEP', 'year ': 2022, 'Product': 'HD', 'SI': 'DSCC', 'priority': 'P1', 'Sentiments': 'C'}, {'Feature': 'TEP', 'year ': 2022, 'Product': 'HD', 'SI': 'DSCC', 'priority': 'P2', 'Sentiments': 'A'}, {'Feature': 'REACH', 'year ': 2022, 'Product': 'HD', 'SI': 'DSCC', 'priority': 'P2', 'Sentiments': 'B'}, {'Feature': 'REACH', 'year ': 2021, 'Product': 'HD', 'SI': 'DSCC', 'priority': 'P3', 'Sentiments': 'C'}, {'Feature': 'REACH', 'year ': 2021, 'Product': 'HD', 'SI': 'DSCC', 'priority': 'P2', 'Sentiments': 'B'}, {'Feature': 'REACH', 'year ': 2021, 'Product': 'HD', 'SI': 'DSCC', 'priority': 'P4', 'Sentiments': 'A'}, {'Feature': 'REACH', 'year ': 2024, 'Product': 'HD', 'SI': 'DSCC', 'priority': 'P1', 'Sentiments': 'B'}, {'Feature': 'CMS', 'year ': 2024, 'Product': 'HD', 'SI': 'HIBOX', 'priority': 'P1', 'Sentiments': 'A'}, {'Feature': 'CMS', 'year ': 2024, 'Product': 'HD', 'SI': 'HIBOX', 'priority': 'P1', 'Sentiments': 'C'}, {'Feature': 'CMS', 'year ': 2024, 'Product': 'HD', 'SI': 'HIBOX', 'priority': 'P1', 'Sentiments': 'C'}, {'Feature': 'CMS', 'year ': 2024, 'Product': 'HD', 'SI': 'HIBOX', 'priority': 'P2', 'Sentiments': 'A'}, {'Feature': 'CMS', 'year ': 2024, 'Product': 'HD', 'SI': 'HIBOX', 'priority': 'P2', 'Sentiments': 'B'}, {'Feature': 'CMS', 'year ': 2024, 'Product': 'HD', 'SI': 'HIBOX', 'priority': 'P3', 'Sentiments': 'A'}, {'Feature': 'CMS', 'year ': 2024, 'Product': 'HD', 'SI': 'HIBOX', 'priority': 'P2', 'Sentiments': 'B'}, {'Feature': 'CMS', 'year ': 2024, 'Product': 'HD', 'SI': 'HIBOX', 'priority': 'P4', 'Sentiments': 'C'}, {'Feature': 'CMS', 'year ': 2023, 'Product': 'HD', 'SI': 'HIBOX', 'priority': 'P1', 'Sentiments': 'A'}, {'Feature': 'CMS', 'year ': 2023, 'Product': 'HD', 'SI': 'HIBOX', 'priority': 'P1', 'Sentiments': 'B'}, {'Feature': 'CMS', 'year ': 2023, 'Product': 'HD', 'SI': 'HIBOX', 'priority': 'P1', 'Sentiments': 'B'}, {'Feature': 'CMS', 'year ': 2023, 'Product': 'HD', 'SI': 'HIBOX', 'priority': 'P2', 'Sentiments': 'A'}, {'Feature': 'H.Browser', 'year ': 2023, 'Product': 'HD', 'SI': 'HIBOX', 'priority': 'P2', 'Sentiments': 'C'}, {'Feature': 'H.Browser', 'year ': 2023, 'Product': 'HD', 'SI': 'HIBOX', 'priority': 'P3', 'Sentiments': 'C'}, {'Feature': 'H.Browser', 'year ': 2022, 'Product': 'HD', 'SI': 'HIBOX', 'priority': 'P2', 'Sentiments': 'C'}, {'Feature': 'H.Browser', 'year ': 2022, 'Product': 'HD', 'SI': 'HIBOX', 'priority': 'P4', 'Sentiments': 'A'}, {'Feature': 'H.Browser', 'year ': 2022, 'Product': 'HD', 'SI': 'HIBOX', 'priority': 'P1', 'Sentiments': 'A'}, {'Feature': 'H.Browser', 'year ': 2022, 'Product': 'HD', 'SI': 'HIBOX', 'priority': 'P1', 'Sentiments': 'C'}, {'Feature': 'H.Browser', 'year ': 2022, 'Product': 'HD', 'SI': 'HIBOX', 'priority': 'P1', 'Sentiments': 'C'}, {'Feature': 'H.Browser', 'year ': 2022, 'Product': 'HD', 'SI': 'HIBOX', 'priority': 'P2', 'Sentiments': 'A'}, {'Feature': 'TEP', 'year ': 2022, 'Product': 'HD', 'SI': 'HIBOX', 'priority': 'P2', 'Sentiments': 'B'}, {'Feature': 'TEP', 'year ': 2021, 'Product': 'HD', 'SI': 'HIBOX', 'priority': 'P3', 'Sentiments': 'C'}, {'Feature': 'TEP', 'year ': 2021, 'Product': 'HD', 'SI': 'HIBOX', 'priority': 'P2', 'Sentiments': 'B'}, {'Feature': 'TEP', 'year ': 2021, 'Product': 'HD', 'SI': 'HIBOX', 'priority': 'P4', 'Sentiments': 'B'}, {'Feature': 'TEP', 'year ': 2024, 'Product': 'HD', 'SI': 'HIBOX', 'priority': 'P1', 'Sentiments': 'A'}, {'Feature': 'TEP', 'year ': 2024, 'Product': 'HD', 'SI': 'HIBOX', 'priority': 'P1', 'Sentiments': 'C'}, {'Feature': 'TEP', 'year ': 2024, 'Product': 'HD', 'SI': 'HIBOX', 'priority': 'P1', 'Sentiments': 'A'}]\n"
     ]
    }
   ],
   "source": [
    "def dataframe_to_dict_array(df):\n",
    "    # Convert DataFrame to list of dictionaries\n",
    "    dict_array = df.to_dict(orient='records')\n",
    "    return dict_array\n",
    "\n",
    "# Example usage with any DataFrame (e.g., 'df')\n",
    "dict_array = dataframe_to_dict_array(df)\n",
    "\n",
    "print(dict_array)"
   ]
  },
  {
   "cell_type": "code",
   "execution_count": 46,
   "metadata": {},
   "outputs": [
    {
     "data": {
      "text/html": [
       "<div>\n",
       "<style scoped>\n",
       "    .dataframe tbody tr th:only-of-type {\n",
       "        vertical-align: middle;\n",
       "    }\n",
       "\n",
       "    .dataframe tbody tr th {\n",
       "        vertical-align: top;\n",
       "    }\n",
       "\n",
       "    .dataframe thead th {\n",
       "        text-align: right;\n",
       "    }\n",
       "</style>\n",
       "<table border=\"1\" class=\"dataframe\">\n",
       "  <thead>\n",
       "    <tr style=\"text-align: right;\">\n",
       "      <th></th>\n",
       "      <th>Feature</th>\n",
       "      <th>year</th>\n",
       "      <th>Product</th>\n",
       "      <th>SI</th>\n",
       "      <th>priority</th>\n",
       "    </tr>\n",
       "  </thead>\n",
       "  <tbody>\n",
       "    <tr>\n",
       "      <th>0</th>\n",
       "      <td>H.Browser</td>\n",
       "      <td>2024</td>\n",
       "      <td>HD</td>\n",
       "      <td>Sonify</td>\n",
       "      <td>P1</td>\n",
       "    </tr>\n",
       "    <tr>\n",
       "      <th>1</th>\n",
       "      <td>H.Browser</td>\n",
       "      <td>2024</td>\n",
       "      <td>HD</td>\n",
       "      <td>Sonify</td>\n",
       "      <td>P1</td>\n",
       "    </tr>\n",
       "    <tr>\n",
       "      <th>2</th>\n",
       "      <td>H.Browser</td>\n",
       "      <td>2024</td>\n",
       "      <td>HD</td>\n",
       "      <td>Sonify</td>\n",
       "      <td>P1</td>\n",
       "    </tr>\n",
       "    <tr>\n",
       "      <th>3</th>\n",
       "      <td>H.Browser</td>\n",
       "      <td>2024</td>\n",
       "      <td>HD</td>\n",
       "      <td>Sonify</td>\n",
       "      <td>P2</td>\n",
       "    </tr>\n",
       "    <tr>\n",
       "      <th>4</th>\n",
       "      <td>H.Browser</td>\n",
       "      <td>2024</td>\n",
       "      <td>HD</td>\n",
       "      <td>Sonify</td>\n",
       "      <td>P2</td>\n",
       "    </tr>\n",
       "    <tr>\n",
       "      <th>...</th>\n",
       "      <td>...</td>\n",
       "      <td>...</td>\n",
       "      <td>...</td>\n",
       "      <td>...</td>\n",
       "      <td>...</td>\n",
       "    </tr>\n",
       "    <tr>\n",
       "      <th>172</th>\n",
       "      <td>TEP</td>\n",
       "      <td>2021</td>\n",
       "      <td>HD</td>\n",
       "      <td>HIBOX</td>\n",
       "      <td>P2</td>\n",
       "    </tr>\n",
       "    <tr>\n",
       "      <th>173</th>\n",
       "      <td>TEP</td>\n",
       "      <td>2021</td>\n",
       "      <td>HD</td>\n",
       "      <td>HIBOX</td>\n",
       "      <td>P4</td>\n",
       "    </tr>\n",
       "    <tr>\n",
       "      <th>174</th>\n",
       "      <td>TEP</td>\n",
       "      <td>2024</td>\n",
       "      <td>HD</td>\n",
       "      <td>HIBOX</td>\n",
       "      <td>P1</td>\n",
       "    </tr>\n",
       "    <tr>\n",
       "      <th>175</th>\n",
       "      <td>TEP</td>\n",
       "      <td>2024</td>\n",
       "      <td>HD</td>\n",
       "      <td>HIBOX</td>\n",
       "      <td>P1</td>\n",
       "    </tr>\n",
       "    <tr>\n",
       "      <th>176</th>\n",
       "      <td>TEP</td>\n",
       "      <td>2024</td>\n",
       "      <td>HD</td>\n",
       "      <td>HIBOX</td>\n",
       "      <td>P1</td>\n",
       "    </tr>\n",
       "  </tbody>\n",
       "</table>\n",
       "<p>177 rows × 5 columns</p>\n",
       "</div>"
      ],
      "text/plain": [
       "       Feature  year  Product      SI priority\n",
       "0    H.Browser   2024      HD  Sonify       P1\n",
       "1    H.Browser   2024      HD  Sonify       P1\n",
       "2    H.Browser   2024      HD  Sonify       P1\n",
       "3    H.Browser   2024      HD  Sonify       P2\n",
       "4    H.Browser   2024      HD  Sonify       P2\n",
       "..         ...    ...     ...     ...      ...\n",
       "172        TEP   2021      HD   HIBOX       P2\n",
       "173        TEP   2021      HD   HIBOX       P4\n",
       "174        TEP   2024      HD   HIBOX       P1\n",
       "175        TEP   2024      HD   HIBOX       P1\n",
       "176        TEP   2024      HD   HIBOX       P1\n",
       "\n",
       "[177 rows x 5 columns]"
      ]
     },
     "execution_count": 46,
     "metadata": {},
     "output_type": "execute_result"
    }
   ],
   "source": [
    "df"
   ]
  },
  {
   "cell_type": "code",
   "execution_count": 47,
   "metadata": {},
   "outputs": [],
   "source": [
    "df = df.astype(str)"
   ]
  },
  {
   "cell_type": "code",
   "execution_count": 48,
   "metadata": {},
   "outputs": [],
   "source": [
    "def filter_dataframe(df, filters):\n",
    "    # Create a mask with all True values (include all rows initially)\n",
    "    mask = pd.Series([True] * len(df), index=df.index)\n",
    "    \n",
    "    # Apply filters based on the provided dictionary\n",
    "    for column, values in filters.items():\n",
    "        if column in df.columns:\n",
    "            mask &= df[column].isin(values)\n",
    "    \n",
    "    # Return the filtered DataFrame\n",
    "    return df[mask]"
   ]
  },
  {
   "cell_type": "code",
   "execution_count": 49,
   "metadata": {},
   "outputs": [
    {
     "data": {
      "text/html": [
       "<div>\n",
       "<style scoped>\n",
       "    .dataframe tbody tr th:only-of-type {\n",
       "        vertical-align: middle;\n",
       "    }\n",
       "\n",
       "    .dataframe tbody tr th {\n",
       "        vertical-align: top;\n",
       "    }\n",
       "\n",
       "    .dataframe thead th {\n",
       "        text-align: right;\n",
       "    }\n",
       "</style>\n",
       "<table border=\"1\" class=\"dataframe\">\n",
       "  <thead>\n",
       "    <tr style=\"text-align: right;\">\n",
       "      <th></th>\n",
       "      <th>Feature</th>\n",
       "      <th>year</th>\n",
       "      <th>Product</th>\n",
       "      <th>SI</th>\n",
       "      <th>priority</th>\n",
       "    </tr>\n",
       "  </thead>\n",
       "  <tbody>\n",
       "    <tr>\n",
       "      <th>0</th>\n",
       "      <td>H.Browser</td>\n",
       "      <td>2024</td>\n",
       "      <td>HD</td>\n",
       "      <td>Sonify</td>\n",
       "      <td>P1</td>\n",
       "    </tr>\n",
       "    <tr>\n",
       "      <th>1</th>\n",
       "      <td>H.Browser</td>\n",
       "      <td>2024</td>\n",
       "      <td>HD</td>\n",
       "      <td>Sonify</td>\n",
       "      <td>P1</td>\n",
       "    </tr>\n",
       "    <tr>\n",
       "      <th>2</th>\n",
       "      <td>H.Browser</td>\n",
       "      <td>2024</td>\n",
       "      <td>HD</td>\n",
       "      <td>Sonify</td>\n",
       "      <td>P1</td>\n",
       "    </tr>\n",
       "    <tr>\n",
       "      <th>3</th>\n",
       "      <td>H.Browser</td>\n",
       "      <td>2024</td>\n",
       "      <td>HD</td>\n",
       "      <td>Sonify</td>\n",
       "      <td>P2</td>\n",
       "    </tr>\n",
       "    <tr>\n",
       "      <th>4</th>\n",
       "      <td>H.Browser</td>\n",
       "      <td>2024</td>\n",
       "      <td>HD</td>\n",
       "      <td>Sonify</td>\n",
       "      <td>P2</td>\n",
       "    </tr>\n",
       "    <tr>\n",
       "      <th>...</th>\n",
       "      <td>...</td>\n",
       "      <td>...</td>\n",
       "      <td>...</td>\n",
       "      <td>...</td>\n",
       "      <td>...</td>\n",
       "    </tr>\n",
       "    <tr>\n",
       "      <th>172</th>\n",
       "      <td>TEP</td>\n",
       "      <td>2021</td>\n",
       "      <td>HD</td>\n",
       "      <td>HIBOX</td>\n",
       "      <td>P2</td>\n",
       "    </tr>\n",
       "    <tr>\n",
       "      <th>173</th>\n",
       "      <td>TEP</td>\n",
       "      <td>2021</td>\n",
       "      <td>HD</td>\n",
       "      <td>HIBOX</td>\n",
       "      <td>P4</td>\n",
       "    </tr>\n",
       "    <tr>\n",
       "      <th>174</th>\n",
       "      <td>TEP</td>\n",
       "      <td>2024</td>\n",
       "      <td>HD</td>\n",
       "      <td>HIBOX</td>\n",
       "      <td>P1</td>\n",
       "    </tr>\n",
       "    <tr>\n",
       "      <th>175</th>\n",
       "      <td>TEP</td>\n",
       "      <td>2024</td>\n",
       "      <td>HD</td>\n",
       "      <td>HIBOX</td>\n",
       "      <td>P1</td>\n",
       "    </tr>\n",
       "    <tr>\n",
       "      <th>176</th>\n",
       "      <td>TEP</td>\n",
       "      <td>2024</td>\n",
       "      <td>HD</td>\n",
       "      <td>HIBOX</td>\n",
       "      <td>P1</td>\n",
       "    </tr>\n",
       "  </tbody>\n",
       "</table>\n",
       "<p>177 rows × 5 columns</p>\n",
       "</div>"
      ],
      "text/plain": [
       "       Feature year  Product      SI priority\n",
       "0    H.Browser  2024      HD  Sonify       P1\n",
       "1    H.Browser  2024      HD  Sonify       P1\n",
       "2    H.Browser  2024      HD  Sonify       P1\n",
       "3    H.Browser  2024      HD  Sonify       P2\n",
       "4    H.Browser  2024      HD  Sonify       P2\n",
       "..         ...   ...     ...     ...      ...\n",
       "172        TEP  2021      HD   HIBOX       P2\n",
       "173        TEP  2021      HD   HIBOX       P4\n",
       "174        TEP  2024      HD   HIBOX       P1\n",
       "175        TEP  2024      HD   HIBOX       P1\n",
       "176        TEP  2024      HD   HIBOX       P1\n",
       "\n",
       "[177 rows x 5 columns]"
      ]
     },
     "execution_count": 49,
     "metadata": {},
     "output_type": "execute_result"
    }
   ],
   "source": [
    "df"
   ]
  },
  {
   "cell_type": "code",
   "execution_count": 50,
   "metadata": {},
   "outputs": [
    {
     "name": "stdout",
     "output_type": "stream",
     "text": [
      "       Feature year  Product      SI priority\n",
      "0    H.Browser  2024      HD  Sonify       P1\n",
      "1    H.Browser  2024      HD  Sonify       P1\n",
      "2    H.Browser  2024      HD  Sonify       P1\n",
      "3    H.Browser  2024      HD  Sonify       P2\n",
      "4    H.Browser  2024      HD  Sonify       P2\n",
      "..         ...   ...     ...     ...      ...\n",
      "165  H.Browser  2022      HD   HIBOX       P4\n",
      "166  H.Browser  2022      HD   HIBOX       P1\n",
      "167  H.Browser  2022      HD   HIBOX       P1\n",
      "168  H.Browser  2022      HD   HIBOX       P1\n",
      "169  H.Browser  2022      HD   HIBOX       P2\n",
      "\n",
      "[130 rows x 5 columns]\n"
     ]
    }
   ],
   "source": [
    "# Define filter values using variables\n",
    "F_Feature = ['H.Browser','REACH','CMS']\n",
    "F_Year = ['2024','2023','2022','2021']\n",
    "\n",
    "# Construct the filter criteria dictionary using the variables\n",
    "filter_criteria = {\n",
    "    'Feature': F_Feature,\n",
    "    'year': F_Year\n",
    "}\n",
    "\n",
    "# Test the function\n",
    "filtered_df = filter_dataframe(df, filter_criteria)\n",
    "print(filtered_df)"
   ]
  },
  {
   "cell_type": "code",
   "execution_count": 51,
   "metadata": {},
   "outputs": [
    {
     "name": "stdout",
     "output_type": "stream",
     "text": [
      "                  priority\n",
      "SI     Feature            \n",
      "DSCC   CMS              25\n",
      "       H.Browser        12\n",
      "       REACH             5\n",
      "HIBOX  CMS              12\n",
      "       H.Browser         8\n",
      "       REACH            27\n",
      "Sonify CMS               9\n",
      "       H.Browser        24\n",
      "       REACH             8\n"
     ]
    }
   ],
   "source": [
    "# Create a pivot table\n",
    "pivot_table = pd.pivot_table(filtered_df, values=['priority'], index=['SI','Feature'], aggfunc=len)\n",
    "\n",
    "print(pivot_table)"
   ]
  },
  {
   "cell_type": "code",
   "execution_count": 52,
   "metadata": {},
   "outputs": [
    {
     "data": {
      "text/plain": [
       "pandas.core.frame.DataFrame"
      ]
     },
     "execution_count": 52,
     "metadata": {},
     "output_type": "execute_result"
    }
   ],
   "source": [
    "type(pivot_table)"
   ]
  },
  {
   "cell_type": "code",
   "execution_count": 53,
   "metadata": {},
   "outputs": [
    {
     "data": {
      "text/plain": [
       "SI      Feature  \n",
       "DSCC    CMS          25\n",
       "        H.Browser    12\n",
       "        REACH         5\n",
       "HIBOX   CMS          12\n",
       "        H.Browser     8\n",
       "        REACH        27\n",
       "Sonify  CMS           9\n",
       "        H.Browser    24\n",
       "        REACH         8\n",
       "Name: priority, dtype: int64"
      ]
     },
     "execution_count": 53,
     "metadata": {},
     "output_type": "execute_result"
    }
   ],
   "source": [
    "pivot_table['priority']"
   ]
  },
  {
   "cell_type": "code",
   "execution_count": 64,
   "metadata": {},
   "outputs": [],
   "source": [
    "import pandas as pd\n",
    "import json\n",
    "\n",
    "def pivot_table_to_dict_list(pivot_table):\n",
    "    # Initialize an empty list to store the dictionaries\n",
    "    dict_list = []\n",
    "    \n",
    "    # Iterate over the unique 'SI' values\n",
    "    unique_si = pivot_table.index.get_level_values('SI').unique()\n",
    "    \n",
    "    for si in unique_si:\n",
    "        # Initialize a dictionary for each 'SI'\n",
    "        si_dict = {'SI': si}\n",
    "        \n",
    "        # Filter the pivot table for the current 'SI'\n",
    "        si_pivot = pivot_table.xs(si, level='SI')\n",
    "        \n",
    "        for feature, priority in si_pivot.itertuples():\n",
    "            si_dict[feature] = priority\n",
    "        \n",
    "        # Append the dictionary to the list\n",
    "        dict_list.append(si_dict)\n",
    "    \n",
    "    return dict_list"
   ]
  },
  {
   "cell_type": "code",
   "execution_count": 65,
   "metadata": {},
   "outputs": [],
   "source": [
    "# Convert pivot_table to a list of dictionaries\n",
    "result = pivot_table_to_dict_list(pivot_table)\n"
   ]
  },
  {
   "cell_type": "code",
   "execution_count": 66,
   "metadata": {},
   "outputs": [
    {
     "name": "stdout",
     "output_type": "stream",
     "text": [
      "Resulting List of Dictionaries:\n",
      "[{'SI': 'DSCC', 'CMS': 25, 'H.Browser': 12, 'REACH': 5}, {'SI': 'HIBOX', 'CMS': 12, 'H.Browser': 8, 'REACH': 27}, {'SI': 'Sonify', 'CMS': 9, 'H.Browser': 24, 'REACH': 8}]\n"
     ]
    }
   ],
   "source": [
    "# Print the result\n",
    "print(\"Resulting List of Dictionaries:\")\n",
    "print(result)"
   ]
  },
  {
   "cell_type": "code",
   "execution_count": 67,
   "metadata": {},
   "outputs": [
    {
     "name": "stdout",
     "output_type": "stream",
     "text": [
      "Resulting JSON:\n",
      "[\n",
      "    {\n",
      "        \"SI\": \"DSCC\",\n",
      "        \"CMS\": 25,\n",
      "        \"H.Browser\": 12,\n",
      "        \"REACH\": 5\n",
      "    },\n",
      "    {\n",
      "        \"SI\": \"HIBOX\",\n",
      "        \"CMS\": 12,\n",
      "        \"H.Browser\": 8,\n",
      "        \"REACH\": 27\n",
      "    },\n",
      "    {\n",
      "        \"SI\": \"Sonify\",\n",
      "        \"CMS\": 9,\n",
      "        \"H.Browser\": 24,\n",
      "        \"REACH\": 8\n",
      "    }\n",
      "]\n"
     ]
    }
   ],
   "source": [
    "# Convert the result to JSON\n",
    "result_json = json.dumps(result, indent=4)\n",
    "\n",
    "# Print the result\n",
    "print(\"Resulting JSON:\")\n",
    "print(result_json)"
   ]
  },
  {
   "cell_type": "code",
   "execution_count": 68,
   "metadata": {},
   "outputs": [],
   "source": [
    "import pandas as pd\n",
    "import json\n",
    "\n",
    "def filter_premium_si(dict_list, premium_si):\n",
    "    # Initialize an empty list to store the filtered dictionaries\n",
    "    filtered_list = []\n",
    "    \n",
    "    for entry in dict_list:\n",
    "        if entry['SI'] in premium_si:\n",
    "            filtered_list.append(entry)\n",
    "    \n",
    "    return filtered_list\n"
   ]
  },
  {
   "cell_type": "code",
   "execution_count": 69,
   "metadata": {},
   "outputs": [
    {
     "name": "stdout",
     "output_type": "stream",
     "text": [
      "Filtered Resulting JSON:\n",
      "[\n",
      "    {\n",
      "        \"SI\": \"DSCC\",\n",
      "        \"CMS\": 25,\n",
      "        \"H.Browser\": 12,\n",
      "        \"REACH\": 5\n",
      "    },\n",
      "    {\n",
      "        \"SI\": \"Sonify\",\n",
      "        \"CMS\": 9,\n",
      "        \"H.Browser\": 24,\n",
      "        \"REACH\": 8\n",
      "    }\n",
      "]\n"
     ]
    }
   ],
   "source": [
    "\n",
    "# List of Premium SI\n",
    "premium_si = ['Sonify', 'DSCC']\n",
    "\n",
    "# Filter dict_list based on premium_si\n",
    "filtered_result = filter_premium_si(result, premium_si)\n",
    "\n",
    "# Convert the filtered result to JSON\n",
    "filtered_result_json = json.dumps(filtered_result, indent=4)\n",
    "\n",
    "# Print the filtered result\n",
    "print(\"Filtered Resulting JSON:\")\n",
    "print(filtered_result_json)\n"
   ]
  }
 ],
 "metadata": {
  "kernelspec": {
   "display_name": "Python 3",
   "language": "python",
   "name": "python3"
  },
  "language_info": {
   "codemirror_mode": {
    "name": "ipython",
    "version": 3
   },
   "file_extension": ".py",
   "mimetype": "text/x-python",
   "name": "python",
   "nbconvert_exporter": "python",
   "pygments_lexer": "ipython3",
   "version": "3.12.3"
  }
 },
 "nbformat": 4,
 "nbformat_minor": 2
}
